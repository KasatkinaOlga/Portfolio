{
 "cells": [
  {
   "cell_type": "markdown",
   "metadata": {
    "toc": true
   },
   "source": [
    "<h1>Содержание<span class=\"tocSkip\"></span></h1>\n",
    "<div class=\"toc\"><ul class=\"toc-item\"><li><span><a href=\"#Подготовка\" data-toc-modified-id=\"Подготовка-1\"><span class=\"toc-item-num\">1&nbsp;&nbsp;</span>Подготовка</a></span><ul class=\"toc-item\"><li><span><a href=\"#Загружаем-библиотеки\" data-toc-modified-id=\"Загружаем-библиотеки-1.1\"><span class=\"toc-item-num\">1.1&nbsp;&nbsp;</span>Загружаем библиотеки</a></span></li><li><span><a href=\"#Загружаем-датасет\" data-toc-modified-id=\"Загружаем-датасет-1.2\"><span class=\"toc-item-num\">1.2&nbsp;&nbsp;</span>Загружаем датасет</a></span></li><li><span><a href=\"#Лемматизируем-текст:\" data-toc-modified-id=\"Лемматизируем-текст:-1.3\"><span class=\"toc-item-num\">1.3&nbsp;&nbsp;</span>Лемматизируем текст:</a></span></li><li><span><a href=\"#TF-IDF\" data-toc-modified-id=\"TF-IDF-1.4\"><span class=\"toc-item-num\">1.4&nbsp;&nbsp;</span>TF-IDF</a></span></li></ul></li><li><span><a href=\"#Обучение\" data-toc-modified-id=\"Обучение-2\"><span class=\"toc-item-num\">2&nbsp;&nbsp;</span>Обучение</a></span><ul class=\"toc-item\"><li><span><a href=\"#Логистическая-регрессия-с-параметром-class_weight-=-'balanced'\" data-toc-modified-id=\"Логистическая-регрессия-с-параметром-class_weight-=-'balanced'-2.1\"><span class=\"toc-item-num\">2.1&nbsp;&nbsp;</span>Логистическая регрессия с параметром class_weight = 'balanced'</a></span></li><li><span><a href=\"#Случайный-лес\" data-toc-modified-id=\"Случайный-лес-2.2\"><span class=\"toc-item-num\">2.2&nbsp;&nbsp;</span>Случайный лес</a></span></li><li><span><a href=\"#Catboost\" data-toc-modified-id=\"Catboost-2.3\"><span class=\"toc-item-num\">2.3&nbsp;&nbsp;</span>Catboost</a></span></li><li><span><a href=\"#Тестирование\" data-toc-modified-id=\"Тестирование-2.4\"><span class=\"toc-item-num\">2.4&nbsp;&nbsp;</span>Тестирование</a></span></li><li><span><a href=\"#Построим-для-созданной-модели-метрику-AUC-ROC¶\" data-toc-modified-id=\"Построим-для-созданной-модели-метрику-AUC-ROC¶-2.5\"><span class=\"toc-item-num\">2.5&nbsp;&nbsp;</span>Построим для созданной модели метрику AUC-ROC¶</a></span></li></ul></li><li><span><a href=\"#Отчет\" data-toc-modified-id=\"Отчет-3\"><span class=\"toc-item-num\">3&nbsp;&nbsp;</span>Отчет</a></span><ul class=\"toc-item\"><li><span><a href=\"#Особенности-исходных-данных:\" data-toc-modified-id=\"Особенности-исходных-данных:-3.1\"><span class=\"toc-item-num\">3.1&nbsp;&nbsp;</span>Особенности исходных данных:</a></span></li><li><span><a href=\"#Подготовка-исходных-данных-перед-обучением-модели\" data-toc-modified-id=\"Подготовка-исходных-данных-перед-обучением-модели-3.2\"><span class=\"toc-item-num\">3.2&nbsp;&nbsp;</span>Подготовка исходных данных перед обучением модели</a></span></li><li><span><a href=\"#Архитектура-модели\" data-toc-modified-id=\"Архитектура-модели-3.3\"><span class=\"toc-item-num\">3.3&nbsp;&nbsp;</span>Архитектура модели</a></span></li><li><span><a href=\"#Итоговая-метрика\" data-toc-modified-id=\"Итоговая-метрика-3.4\"><span class=\"toc-item-num\">3.4&nbsp;&nbsp;</span>Итоговая метрика</a></span></li></ul></li><li><span><a href=\"#Чек-лист-проверки\" data-toc-modified-id=\"Чек-лист-проверки-4\"><span class=\"toc-item-num\">4&nbsp;&nbsp;</span>Чек-лист проверки</a></span></li></ul></div>"
   ]
  },
  {
   "cell_type": "markdown",
   "metadata": {},
   "source": [
    "# Проект для «Викишоп»"
   ]
  },
  {
   "cell_type": "markdown",
   "metadata": {},
   "source": [
    "**Заказчик:** Интернет-магазин «Викишоп» \n",
    "\n",
    "**Задача проекта:** магазин запускает новый сервис. Теперь пользователи могут редактировать и дополнять описания товаров, как в вики-сообществах. То есть клиенты предлагают свои правки и комментируют изменения других. Магазину нужен инструмент, который будет искать токсичные комментарии и отправлять их на модерацию. \n",
    "\n",
    "Необходимо обучить модель классифицировать комментарии на позитивные и негативные. В вашем распоряжении набор данных с разметкой о токсичности правок.\n",
    "\n",
    "**Описание данных**\n",
    "Заказчиком предоставлен набор данных в формате csv с разметкой о токсичности правок.\n",
    "\n",
    " **text** в нём содержит текст комментария   \n",
    " **toxic** — целевой признак\n",
    "\n",
    "**Критерий качества модели:**  \n",
    "\n",
    "Значение метрики качества *F1* не менее 0.75."
   ]
  },
  {
   "cell_type": "markdown",
   "metadata": {},
   "source": [
    "## Подготовка"
   ]
  },
  {
   "cell_type": "markdown",
   "metadata": {},
   "source": [
    "### Загружаем библиотеки"
   ]
  },
  {
   "cell_type": "code",
   "execution_count": 1,
   "metadata": {},
   "outputs": [
    {
     "name": "stderr",
     "output_type": "stream",
     "text": [
      "[nltk_data] Downloading package wordnet to /home/jovyan/nltk_data...\n",
      "[nltk_data]   Package wordnet is already up-to-date!\n",
      "[nltk_data] Downloading package punkt to /home/jovyan/nltk_data...\n",
      "[nltk_data]   Package punkt is already up-to-date!\n",
      "[nltk_data] Downloading package averaged_perceptron_tagger to\n",
      "[nltk_data]     /home/jovyan/nltk_data...\n",
      "[nltk_data]   Package averaged_perceptron_tagger is already up-to-\n",
      "[nltk_data]       date!\n"
     ]
    }
   ],
   "source": [
    "import pandas as pd\n",
    "import re\n",
    "import nltk\n",
    "nltk.download('wordnet')\n",
    "import nltk\n",
    "nltk.download('punkt')\n",
    "import nltk\n",
    "nltk.download('averaged_perceptron_tagger')\n",
    "from nltk.stem import WordNetLemmatizer\n",
    "from nltk.corpus import stopwords as nltk_stopwords\n",
    "from sklearn.feature_extraction.text import CountVectorizer\n",
    "from sklearn.model_selection import train_test_split\n",
    "from sklearn.feature_extraction.text import TfidfVectorizer\n",
    "from sklearn.model_selection import cross_val_score\n",
    "from sklearn.linear_model import LogisticRegression\n",
    "from sklearn.ensemble import RandomForestClassifier \n",
    "from catboost import CatBoostClassifier\n",
    "from sklearn.metrics import f1_score\n",
    "import seaborn as sns\n",
    "from sklearn.metrics import roc_curve\n",
    "from sklearn.metrics import roc_auc_score\n",
    "import matplotlib.pyplot as plt\n",
    "%matplotlib inline\n",
    "from tqdm.notebook import tqdm\n",
    "from nltk.corpus import wordnet"
   ]
  },
  {
   "cell_type": "markdown",
   "metadata": {},
   "source": [
    "### Загружаем датасет"
   ]
  },
  {
   "cell_type": "code",
   "execution_count": 2,
   "metadata": {},
   "outputs": [],
   "source": [
    "df_tweet = pd.read_csv('/datasets/toxic_comments.csv')"
   ]
  },
  {
   "cell_type": "code",
   "execution_count": 3,
   "metadata": {},
   "outputs": [
    {
     "data": {
      "text/html": [
       "<div>\n",
       "<style scoped>\n",
       "    .dataframe tbody tr th:only-of-type {\n",
       "        vertical-align: middle;\n",
       "    }\n",
       "\n",
       "    .dataframe tbody tr th {\n",
       "        vertical-align: top;\n",
       "    }\n",
       "\n",
       "    .dataframe thead th {\n",
       "        text-align: right;\n",
       "    }\n",
       "</style>\n",
       "<table border=\"1\" class=\"dataframe\">\n",
       "  <thead>\n",
       "    <tr style=\"text-align: right;\">\n",
       "      <th></th>\n",
       "      <th>Unnamed: 0</th>\n",
       "      <th>text</th>\n",
       "      <th>toxic</th>\n",
       "    </tr>\n",
       "  </thead>\n",
       "  <tbody>\n",
       "    <tr>\n",
       "      <th>0</th>\n",
       "      <td>0</td>\n",
       "      <td>Explanation\\nWhy the edits made under my usern...</td>\n",
       "      <td>0</td>\n",
       "    </tr>\n",
       "    <tr>\n",
       "      <th>1</th>\n",
       "      <td>1</td>\n",
       "      <td>D'aww! He matches this background colour I'm s...</td>\n",
       "      <td>0</td>\n",
       "    </tr>\n",
       "    <tr>\n",
       "      <th>2</th>\n",
       "      <td>2</td>\n",
       "      <td>Hey man, I'm really not trying to edit war. It...</td>\n",
       "      <td>0</td>\n",
       "    </tr>\n",
       "    <tr>\n",
       "      <th>3</th>\n",
       "      <td>3</td>\n",
       "      <td>\"\\nMore\\nI can't make any real suggestions on ...</td>\n",
       "      <td>0</td>\n",
       "    </tr>\n",
       "    <tr>\n",
       "      <th>4</th>\n",
       "      <td>4</td>\n",
       "      <td>You, sir, are my hero. Any chance you remember...</td>\n",
       "      <td>0</td>\n",
       "    </tr>\n",
       "  </tbody>\n",
       "</table>\n",
       "</div>"
      ],
      "text/plain": [
       "   Unnamed: 0                                               text  toxic\n",
       "0           0  Explanation\\nWhy the edits made under my usern...      0\n",
       "1           1  D'aww! He matches this background colour I'm s...      0\n",
       "2           2  Hey man, I'm really not trying to edit war. It...      0\n",
       "3           3  \"\\nMore\\nI can't make any real suggestions on ...      0\n",
       "4           4  You, sir, are my hero. Any chance you remember...      0"
      ]
     },
     "execution_count": 3,
     "metadata": {},
     "output_type": "execute_result"
    }
   ],
   "source": [
    "df_tweet.head()"
   ]
  },
  {
   "cell_type": "code",
   "execution_count": 4,
   "metadata": {},
   "outputs": [
    {
     "name": "stdout",
     "output_type": "stream",
     "text": [
      "<class 'pandas.core.frame.DataFrame'>\n",
      "RangeIndex: 159292 entries, 0 to 159291\n",
      "Data columns (total 3 columns):\n",
      " #   Column      Non-Null Count   Dtype \n",
      "---  ------      --------------   ----- \n",
      " 0   Unnamed: 0  159292 non-null  int64 \n",
      " 1   text        159292 non-null  object\n",
      " 2   toxic       159292 non-null  int64 \n",
      "dtypes: int64(2), object(1)\n",
      "memory usage: 3.6+ MB\n"
     ]
    }
   ],
   "source": [
    "df_tweet.info()"
   ]
  },
  {
   "cell_type": "markdown",
   "metadata": {},
   "source": [
    "В датасете представлены 159292 комментария, размеченных по токсичности. Тип данных соответствует представляемой информации."
   ]
  },
  {
   "cell_type": "markdown",
   "metadata": {},
   "source": [
    "комментарии на английском языке и есть столбец Unnamed: 0 неясного назначения"
   ]
  },
  {
   "cell_type": "code",
   "execution_count": 5,
   "metadata": {},
   "outputs": [
    {
     "data": {
      "text/plain": [
       "array([     0,      1,      2, ..., 159448, 159449, 159450])"
      ]
     },
     "execution_count": 5,
     "metadata": {},
     "output_type": "execute_result"
    }
   ],
   "source": [
    "df_tweet['Unnamed: 0'].unique()"
   ]
  },
  {
   "cell_type": "markdown",
   "metadata": {},
   "source": [
    "Какая-то непоследовательная нумерация строк"
   ]
  },
  {
   "cell_type": "code",
   "execution_count": 6,
   "metadata": {
    "scrolled": true
   },
   "outputs": [
    {
     "data": {
      "text/plain": [
       "(159292, 3)"
      ]
     },
     "execution_count": 6,
     "metadata": {},
     "output_type": "execute_result"
    }
   ],
   "source": [
    "df_tweet.shape"
   ]
  },
  {
   "cell_type": "code",
   "execution_count": 7,
   "metadata": {},
   "outputs": [
    {
     "data": {
      "text/plain": [
       "0"
      ]
     },
     "execution_count": 7,
     "metadata": {},
     "output_type": "execute_result"
    }
   ],
   "source": [
    "df_tweet.duplicated().sum()"
   ]
  },
  {
   "cell_type": "markdown",
   "metadata": {},
   "source": [
    "Уберем из текста посторонние символы:"
   ]
  },
  {
   "cell_type": "code",
   "execution_count": 8,
   "metadata": {},
   "outputs": [],
   "source": [
    "def clear_text(text):\n",
    "    re.sub(r\"[^a-zA-Z' ]\",' ',text)\n",
    "    clear_text = \" \".join(re.sub(r\"[^a-zA-Z' ]\",' ',text).split())\n",
    "    return clear_text"
   ]
  },
  {
   "cell_type": "code",
   "execution_count": 9,
   "metadata": {},
   "outputs": [],
   "source": [
    "df_tweet['clear_text'] = (df_tweet['text'].str.lower()).apply(clear_text)"
   ]
  },
  {
   "cell_type": "code",
   "execution_count": 10,
   "metadata": {},
   "outputs": [
    {
     "data": {
      "text/html": [
       "<div>\n",
       "<style scoped>\n",
       "    .dataframe tbody tr th:only-of-type {\n",
       "        vertical-align: middle;\n",
       "    }\n",
       "\n",
       "    .dataframe tbody tr th {\n",
       "        vertical-align: top;\n",
       "    }\n",
       "\n",
       "    .dataframe thead th {\n",
       "        text-align: right;\n",
       "    }\n",
       "</style>\n",
       "<table border=\"1\" class=\"dataframe\">\n",
       "  <thead>\n",
       "    <tr style=\"text-align: right;\">\n",
       "      <th></th>\n",
       "      <th>Unnamed: 0</th>\n",
       "      <th>text</th>\n",
       "      <th>toxic</th>\n",
       "      <th>clear_text</th>\n",
       "    </tr>\n",
       "  </thead>\n",
       "  <tbody>\n",
       "    <tr>\n",
       "      <th>0</th>\n",
       "      <td>0</td>\n",
       "      <td>Explanation\\nWhy the edits made under my usern...</td>\n",
       "      <td>0</td>\n",
       "      <td>explanation why the edits made under my userna...</td>\n",
       "    </tr>\n",
       "    <tr>\n",
       "      <th>1</th>\n",
       "      <td>1</td>\n",
       "      <td>D'aww! He matches this background colour I'm s...</td>\n",
       "      <td>0</td>\n",
       "      <td>d'aww he matches this background colour i'm se...</td>\n",
       "    </tr>\n",
       "    <tr>\n",
       "      <th>2</th>\n",
       "      <td>2</td>\n",
       "      <td>Hey man, I'm really not trying to edit war. It...</td>\n",
       "      <td>0</td>\n",
       "      <td>hey man i'm really not trying to edit war it's...</td>\n",
       "    </tr>\n",
       "  </tbody>\n",
       "</table>\n",
       "</div>"
      ],
      "text/plain": [
       "   Unnamed: 0                                               text  toxic  \\\n",
       "0           0  Explanation\\nWhy the edits made under my usern...      0   \n",
       "1           1  D'aww! He matches this background colour I'm s...      0   \n",
       "2           2  Hey man, I'm really not trying to edit war. It...      0   \n",
       "\n",
       "                                          clear_text  \n",
       "0  explanation why the edits made under my userna...  \n",
       "1  d'aww he matches this background colour i'm se...  \n",
       "2  hey man i'm really not trying to edit war it's...  "
      ]
     },
     "execution_count": 10,
     "metadata": {},
     "output_type": "execute_result"
    }
   ],
   "source": [
    "df_tweet.head(3)"
   ]
  },
  {
   "cell_type": "markdown",
   "metadata": {},
   "source": [
    "### Лемматизируем текст:"
   ]
  },
  {
   "cell_type": "code",
   "execution_count": 11,
   "metadata": {},
   "outputs": [],
   "source": [
    "def get_wordnet_pos(word):\n",
    "    tag = nltk.pos_tag([word])[0][1][0].upper()\n",
    "    tag_dict = {\"J\": wordnet.ADJ,\n",
    "                \"N\": wordnet.NOUN,\n",
    "                \"V\": wordnet.VERB,\n",
    "                \"R\": wordnet.ADV}\n",
    "    return tag_dict.get(tag, wordnet.NOUN)"
   ]
  },
  {
   "cell_type": "code",
   "execution_count": 12,
   "metadata": {},
   "outputs": [],
   "source": [
    "lemmatizer = WordNetLemmatizer()\n"
   ]
  },
  {
   "cell_type": "code",
   "execution_count": 13,
   "metadata": {},
   "outputs": [],
   "source": [
    "def lemmatize(text):\n",
    "    word_list = nltk.word_tokenize(text)\n",
    "    lemm_text = ' '.join([lemmatizer.lemmatize(w, get_wordnet_pos(w)) for w in word_list])  \n",
    "    return lemm_text"
   ]
  },
  {
   "cell_type": "code",
   "execution_count": 14,
   "metadata": {},
   "outputs": [],
   "source": [
    "tqdm.pandas()\n",
    "df_tweet['lemm_text'] = df_tweet['clear_text'].apply(lemmatize)"
   ]
  },
  {
   "cell_type": "code",
   "execution_count": 15,
   "metadata": {},
   "outputs": [
    {
     "data": {
      "text/html": [
       "<div>\n",
       "<style scoped>\n",
       "    .dataframe tbody tr th:only-of-type {\n",
       "        vertical-align: middle;\n",
       "    }\n",
       "\n",
       "    .dataframe tbody tr th {\n",
       "        vertical-align: top;\n",
       "    }\n",
       "\n",
       "    .dataframe thead th {\n",
       "        text-align: right;\n",
       "    }\n",
       "</style>\n",
       "<table border=\"1\" class=\"dataframe\">\n",
       "  <thead>\n",
       "    <tr style=\"text-align: right;\">\n",
       "      <th></th>\n",
       "      <th>Unnamed: 0</th>\n",
       "      <th>text</th>\n",
       "      <th>toxic</th>\n",
       "      <th>clear_text</th>\n",
       "      <th>lemm_text</th>\n",
       "    </tr>\n",
       "  </thead>\n",
       "  <tbody>\n",
       "    <tr>\n",
       "      <th>0</th>\n",
       "      <td>0</td>\n",
       "      <td>Explanation\\nWhy the edits made under my usern...</td>\n",
       "      <td>0</td>\n",
       "      <td>explanation why the edits made under my userna...</td>\n",
       "      <td>explanation why the edits make under my userna...</td>\n",
       "    </tr>\n",
       "    <tr>\n",
       "      <th>1</th>\n",
       "      <td>1</td>\n",
       "      <td>D'aww! He matches this background colour I'm s...</td>\n",
       "      <td>0</td>\n",
       "      <td>d'aww he matches this background colour i'm se...</td>\n",
       "      <td>d'aww he match this background colour i 'm see...</td>\n",
       "    </tr>\n",
       "  </tbody>\n",
       "</table>\n",
       "</div>"
      ],
      "text/plain": [
       "   Unnamed: 0                                               text  toxic  \\\n",
       "0           0  Explanation\\nWhy the edits made under my usern...      0   \n",
       "1           1  D'aww! He matches this background colour I'm s...      0   \n",
       "\n",
       "                                          clear_text  \\\n",
       "0  explanation why the edits made under my userna...   \n",
       "1  d'aww he matches this background colour i'm se...   \n",
       "\n",
       "                                           lemm_text  \n",
       "0  explanation why the edits make under my userna...  \n",
       "1  d'aww he match this background colour i 'm see...  "
      ]
     },
     "metadata": {},
     "output_type": "display_data"
    }
   ],
   "source": [
    "display(df_tweet.head(2))"
   ]
  },
  {
   "cell_type": "markdown",
   "metadata": {},
   "source": [
    "Теперь выделим features и target:"
   ]
  },
  {
   "cell_type": "code",
   "execution_count": 16,
   "metadata": {},
   "outputs": [],
   "source": [
    "features = df_tweet['lemm_text']\n",
    "target = df_tweet['toxic']"
   ]
  },
  {
   "cell_type": "code",
   "execution_count": 17,
   "metadata": {},
   "outputs": [],
   "source": [
    "corpus, corpus_test, target, target_test = train_test_split(features,target, test_size=0.1, random_state = 12345)"
   ]
  },
  {
   "cell_type": "code",
   "execution_count": 18,
   "metadata": {},
   "outputs": [
    {
     "name": "stdout",
     "output_type": "stream",
     "text": [
      "(143362,)\n",
      "(143362,)\n",
      "(15930,)\n",
      "(15930,)\n"
     ]
    }
   ],
   "source": [
    "print(corpus.shape)\n",
    "print(target.shape)\n",
    "print(corpus_test.shape)\n",
    "print(target_test.shape)"
   ]
  },
  {
   "cell_type": "markdown",
   "metadata": {},
   "source": [
    "### TF-IDF"
   ]
  },
  {
   "cell_type": "code",
   "execution_count": 20,
   "metadata": {},
   "outputs": [
    {
     "name": "stdout",
     "output_type": "stream",
     "text": [
      "Размер матрицы tf-idf: (143362, 143008)\n"
     ]
    }
   ],
   "source": [
    "count_tf_idf = TfidfVectorizer() \n",
    "tf_idf = count_tf_idf.fit_transform(corpus) \n",
    "print(\"Размер матрицы tf-idf:\", tf_idf.shape)"
   ]
  },
  {
   "cell_type": "code",
   "execution_count": 21,
   "metadata": {},
   "outputs": [
    {
     "name": "stdout",
     "output_type": "stream",
     "text": [
      "Размер матрицы tf-idf_test: (15930, 143008)\n"
     ]
    }
   ],
   "source": [
    "tf_idf_test = count_tf_idf.transform(corpus_test) \n",
    "print(\"Размер матрицы tf-idf_test:\", tf_idf_test.shape)"
   ]
  },
  {
   "cell_type": "markdown",
   "metadata": {},
   "source": [
    "## Обучение"
   ]
  },
  {
   "cell_type": "markdown",
   "metadata": {},
   "source": [
    "Соотношение классов в обучающей и тестовой выборке:"
   ]
  },
  {
   "cell_type": "code",
   "execution_count": 22,
   "metadata": {},
   "outputs": [
    {
     "data": {
      "text/plain": [
       "0    128788\n",
       "1     14574\n",
       "Name: toxic, dtype: int64"
      ]
     },
     "execution_count": 22,
     "metadata": {},
     "output_type": "execute_result"
    }
   ],
   "source": [
    "target.value_counts()"
   ]
  },
  {
   "cell_type": "code",
   "execution_count": 23,
   "metadata": {},
   "outputs": [
    {
     "data": {
      "text/plain": [
       "0    14318\n",
       "1     1612\n",
       "Name: toxic, dtype: int64"
      ]
     },
     "execution_count": 23,
     "metadata": {},
     "output_type": "execute_result"
    }
   ],
   "source": [
    "target_test.value_counts()"
   ]
  },
  {
   "cell_type": "markdown",
   "metadata": {},
   "source": [
    "В данных явно доминируют позитивные твиттерасты"
   ]
  },
  {
   "cell_type": "markdown",
   "metadata": {},
   "source": [
    "### Логистическая регрессия с параметром class_weight = 'balanced'"
   ]
  },
  {
   "cell_type": "code",
   "execution_count": 35,
   "metadata": {},
   "outputs": [
    {
     "name": "stderr",
     "output_type": "stream",
     "text": [
      "/opt/conda/lib/python3.9/site-packages/sklearn/linear_model/_logistic.py:763: ConvergenceWarning: lbfgs failed to converge (status=1):\n",
      "STOP: TOTAL NO. of ITERATIONS REACHED LIMIT.\n",
      "\n",
      "Increase the number of iterations (max_iter) or scale the data as shown in:\n",
      "    https://scikit-learn.org/stable/modules/preprocessing.html\n",
      "Please also refer to the documentation for alternative solver options:\n",
      "    https://scikit-learn.org/stable/modules/linear_model.html#logistic-regression\n",
      "  n_iter_i = _check_optimize_result(\n",
      "/opt/conda/lib/python3.9/site-packages/sklearn/linear_model/_logistic.py:763: ConvergenceWarning: lbfgs failed to converge (status=1):\n",
      "STOP: TOTAL NO. of ITERATIONS REACHED LIMIT.\n",
      "\n",
      "Increase the number of iterations (max_iter) or scale the data as shown in:\n",
      "    https://scikit-learn.org/stable/modules/preprocessing.html\n",
      "Please also refer to the documentation for alternative solver options:\n",
      "    https://scikit-learn.org/stable/modules/linear_model.html#logistic-regression\n",
      "  n_iter_i = _check_optimize_result(\n"
     ]
    },
    {
     "name": "stdout",
     "output_type": "stream",
     "text": [
      "0.7686723512847102\n"
     ]
    },
    {
     "name": "stderr",
     "output_type": "stream",
     "text": [
      "/opt/conda/lib/python3.9/site-packages/sklearn/linear_model/_logistic.py:763: ConvergenceWarning: lbfgs failed to converge (status=1):\n",
      "STOP: TOTAL NO. of ITERATIONS REACHED LIMIT.\n",
      "\n",
      "Increase the number of iterations (max_iter) or scale the data as shown in:\n",
      "    https://scikit-learn.org/stable/modules/preprocessing.html\n",
      "Please also refer to the documentation for alternative solver options:\n",
      "    https://scikit-learn.org/stable/modules/linear_model.html#logistic-regression\n",
      "  n_iter_i = _check_optimize_result(\n"
     ]
    }
   ],
   "source": [
    "model_lr = LogisticRegression(random_state=12345,class_weight = 'balanced',C = 5)\n",
    "scores =cross_val_score(model_lr,tf_idf,target,cv=3,scoring = 'f1')\n",
    "print(scores.mean())"
   ]
  },
  {
   "cell_type": "code",
   "execution_count": 32,
   "metadata": {},
   "outputs": [
    {
     "name": "stdout",
     "output_type": "stream",
     "text": [
      "0.7686723512847102\n"
     ]
    }
   ],
   "source": [
    "print(scores.mean())"
   ]
  },
  {
   "cell_type": "markdown",
   "metadata": {},
   "source": [
    "### Случайный лес"
   ]
  },
  {
   "cell_type": "code",
   "execution_count": 26,
   "metadata": {},
   "outputs": [],
   "source": [
    "#model_rf = RandomForestClassifier (random_state=12345)\n",
    "#scores =cross_val_score(model_rf,tf_idf,target,cv=3,scoring = 'f1')\n",
    "#print(scores.mean())"
   ]
  },
  {
   "cell_type": "markdown",
   "metadata": {},
   "source": [
    "Считался лес больше 30 минут,не рискнула подбирать параметры. Закоментировала, чтобы не ел время. Метрика F1 при параметрах \"по-умолчанию\" составила:0.680792"
   ]
  },
  {
   "cell_type": "markdown",
   "metadata": {},
   "source": [
    "### Catboost"
   ]
  },
  {
   "cell_type": "code",
   "execution_count": 27,
   "metadata": {},
   "outputs": [
    {
     "name": "stdout",
     "output_type": "stream",
     "text": [
      "0:\tlearn: 0.4405188\ttotal: 2.26s\tremaining: 7m 30s\n",
      "20:\tlearn: 0.7029154\ttotal: 35.9s\tremaining: 5m 5s\n",
      "40:\tlearn: 0.7529022\ttotal: 1m 8s\tremaining: 4m 25s\n",
      "60:\tlearn: 0.7763744\ttotal: 1m 39s\tremaining: 3m 47s\n",
      "80:\tlearn: 0.7906949\ttotal: 2m 11s\tremaining: 3m 13s\n",
      "100:\tlearn: 0.7996226\ttotal: 2m 42s\tremaining: 2m 39s\n",
      "120:\tlearn: 0.8082216\ttotal: 3m 13s\tremaining: 2m 6s\n",
      "140:\tlearn: 0.8172344\ttotal: 3m 45s\tremaining: 1m 34s\n",
      "160:\tlearn: 0.8253472\ttotal: 4m 16s\tremaining: 1m 2s\n",
      "180:\tlearn: 0.8328635\ttotal: 4m 48s\tremaining: 30.2s\n",
      "199:\tlearn: 0.8382471\ttotal: 5m 17s\tremaining: 0us\n",
      "0:\tlearn: 0.4502347\ttotal: 2.21s\tremaining: 7m 20s\n",
      "20:\tlearn: 0.6983963\ttotal: 35.8s\tremaining: 5m 5s\n",
      "40:\tlearn: 0.7559604\ttotal: 1m 7s\tremaining: 4m 21s\n",
      "60:\tlearn: 0.7761409\ttotal: 1m 38s\tremaining: 3m 43s\n",
      "80:\tlearn: 0.7913183\ttotal: 2m 10s\tremaining: 3m 11s\n",
      "100:\tlearn: 0.8000471\ttotal: 2m 40s\tremaining: 2m 37s\n",
      "120:\tlearn: 0.8099386\ttotal: 3m 12s\tremaining: 2m 5s\n",
      "140:\tlearn: 0.8200847\ttotal: 3m 43s\tremaining: 1m 33s\n",
      "160:\tlearn: 0.8296953\ttotal: 4m 15s\tremaining: 1m 1s\n",
      "180:\tlearn: 0.8363865\ttotal: 4m 47s\tremaining: 30.2s\n",
      "199:\tlearn: 0.8414140\ttotal: 5m 17s\tremaining: 0us\n",
      "0:\tlearn: 0.4198922\ttotal: 2.1s\tremaining: 6m 57s\n",
      "20:\tlearn: 0.6996139\ttotal: 35.8s\tremaining: 5m 5s\n",
      "40:\tlearn: 0.7501228\ttotal: 1m 6s\tremaining: 4m 19s\n",
      "60:\tlearn: 0.7721351\ttotal: 1m 38s\tremaining: 3m 45s\n",
      "80:\tlearn: 0.7848101\ttotal: 2m 9s\tremaining: 3m 10s\n",
      "100:\tlearn: 0.7936508\ttotal: 2m 40s\tremaining: 2m 37s\n",
      "120:\tlearn: 0.8065708\ttotal: 3m 11s\tremaining: 2m 5s\n",
      "140:\tlearn: 0.8179702\ttotal: 3m 42s\tremaining: 1m 33s\n",
      "160:\tlearn: 0.8274467\ttotal: 4m 13s\tremaining: 1m 1s\n",
      "180:\tlearn: 0.8349526\ttotal: 4m 44s\tremaining: 29.9s\n",
      "199:\tlearn: 0.8419246\ttotal: 5m 14s\tremaining: 0us\n",
      "[0.75553428 0.76455399 0.76408989]\n"
     ]
    }
   ],
   "source": [
    "model_cb = CatBoostClassifier(iterations = 200, \n",
    "                              learning_rate = 0.5, eval_metric = 'F1', verbose = 20, random_state = 12345)\n",
    "scores =cross_val_score(model_cb,tf_idf,target,cv=3,scoring = 'f1')\n",
    "print(scores)"
   ]
  },
  {
   "cell_type": "code",
   "execution_count": 28,
   "metadata": {
    "scrolled": true
   },
   "outputs": [
    {
     "name": "stdout",
     "output_type": "stream",
     "text": [
      "0.7613927220587394\n"
     ]
    }
   ],
   "source": [
    "print(scores.mean())"
   ]
  },
  {
   "cell_type": "markdown",
   "metadata": {},
   "source": [
    "И здесь метрика подросла до требуемого минимума. Круто!!!Выбираю для тестирования логистическую регрессию, так как она самая быстрая и F1 у нее все-таки выше других."
   ]
  },
  {
   "cell_type": "markdown",
   "metadata": {},
   "source": [
    "### Тестирование"
   ]
  },
  {
   "cell_type": "code",
   "execution_count": 37,
   "metadata": {},
   "outputs": [],
   "source": [
    "model_lr = LogisticRegression(random_state=12345,class_weight = 'balanced',C = 5)"
   ]
  },
  {
   "cell_type": "code",
   "execution_count": 38,
   "metadata": {},
   "outputs": [
    {
     "name": "stderr",
     "output_type": "stream",
     "text": [
      "/opt/conda/lib/python3.9/site-packages/sklearn/linear_model/_logistic.py:763: ConvergenceWarning: lbfgs failed to converge (status=1):\n",
      "STOP: TOTAL NO. of ITERATIONS REACHED LIMIT.\n",
      "\n",
      "Increase the number of iterations (max_iter) or scale the data as shown in:\n",
      "    https://scikit-learn.org/stable/modules/preprocessing.html\n",
      "Please also refer to the documentation for alternative solver options:\n",
      "    https://scikit-learn.org/stable/modules/linear_model.html#logistic-regression\n",
      "  n_iter_i = _check_optimize_result(\n"
     ]
    },
    {
     "data": {
      "text/plain": [
       "LogisticRegression(C=5, class_weight='balanced', random_state=12345)"
      ]
     },
     "execution_count": 38,
     "metadata": {},
     "output_type": "execute_result"
    }
   ],
   "source": [
    "model_lr.fit(tf_idf,target)"
   ]
  },
  {
   "cell_type": "code",
   "execution_count": 39,
   "metadata": {},
   "outputs": [
    {
     "name": "stdout",
     "output_type": "stream",
     "text": [
      "F1= 0.7755443886097152\n"
     ]
    }
   ],
   "source": [
    "Y_predict = model_lr.predict(tf_idf_test)\n",
    "print(\"F1=\",f1_score(target_test,Y_predict))"
   ]
  },
  {
   "cell_type": "markdown",
   "metadata": {},
   "source": [
    "### Построим для созданной модели метрику AUC-ROC¶"
   ]
  },
  {
   "cell_type": "code",
   "execution_count": 40,
   "metadata": {},
   "outputs": [],
   "source": [
    "probabilities_test = model_lr.predict_proba(tf_idf_test)\n",
    "probabilities_one_test = probabilities_test[:, 1]"
   ]
  },
  {
   "cell_type": "code",
   "execution_count": 41,
   "metadata": {},
   "outputs": [],
   "source": [
    "fpr, tpr, thresholds = roc_curve(target_test, probabilities_one_test)\n"
   ]
  },
  {
   "cell_type": "code",
   "execution_count": 42,
   "metadata": {},
   "outputs": [
    {
     "data": {
      "image/png": "[encoded data removed]",
      "text/plain": [
       "<Figure size 432x432 with 1 Axes>"
      ]
     },
     "metadata": {
      "needs_background": "light"
     },
     "output_type": "display_data"
    }
   ],
   "source": [
    "plt.figure(figsize=(6, 6))\n",
    "\n",
    "plt.plot(fpr, tpr)\n",
    "\n",
    "\n",
    "plt.plot([0, 1], [0, 1], linestyle='--')\n",
    "\n",
    "plt.xlim([0.0, 1.0])\n",
    "plt.ylim([0.0, 1.0])\n",
    "\n",
    "plt.xlabel('False Positive Rate')\n",
    "plt.ylabel('True Positive Rate')\n",
    "\n",
    "plt.title('ROC-кривая')\n",
    "\n",
    "plt.show()"
   ]
  },
  {
   "cell_type": "markdown",
   "metadata": {},
   "source": [
    "## Отчет"
   ]
  },
  {
   "cell_type": "markdown",
   "metadata": {},
   "source": [
    "**Заказчик:** Интернет-магазин «Викишоп» \n",
    "\n",
    "**Задача проекта:** магазин запускает новый сервис. Теперь пользователи могут редактировать и дополнять описания товаров, как в вики-сообществах. То есть клиенты предлагают свои правки и комментируют изменения других. Магазину нужен инструмент, который будет искать токсичные комментарии и отправлять их на модерацию. \n",
    "\n",
    "Необходимо обучить модель классифицировать комментарии на позитивные и негативные. В вашем распоряжении набор данных с разметкой о токсичности правок.\n",
    "\n",
    "**Описание данных**\n",
    "Заказчиком предоставлен набор данных в формате csv с разметкой о токсичности правок.\n",
    "\n",
    " **text** в нём содержит текст комментария   \n",
    " **toxic** — целевой признак\n",
    "\n",
    "**Критерий качества модели:**  \n",
    "\n",
    "Значение метрики качества *F1* не менее 0.75."
   ]
  },
  {
   "cell_type": "markdown",
   "metadata": {},
   "source": [
    "### Особенности исходных данных:"
   ]
  },
  {
   "cell_type": "markdown",
   "metadata": {},
   "source": [
    "1. Заказчиком предоставлен датасет в формате csv, содержащий размеченный текст. Язык текста -английский, комментарии размечены на токсичные и не токсичные;\n",
    "\n",
    "2. Размер датасета (159292, 3);\n",
    "\n",
    "3. В тексте присутствуют знаки припинания и буквы различного регистра;\n",
    "\n",
    "4. Выборка не сбалансирована по классам: доминирует класс позитивных комментов над негативными в соотношении 8.8:1\n"
   ]
  },
  {
   "cell_type": "markdown",
   "metadata": {},
   "source": [
    "### Подготовка исходных данных перед обучением модели"
   ]
  },
  {
   "cell_type": "markdown",
   "metadata": {},
   "source": [
    "Перед обучением модели была проведена токенизация текста с последующей лемматизацией WordNetLemmatizer с POS-тегом.\n",
    "\n",
    "Сначала была лемматизирована обучающая выборка затем тестовая.\n",
    "\n",
    "Размер обучающей выборки : (143362,)\n",
    "Размер тестовой выборки: (15930,)\n",
    "\n",
    "Признаки получены векторизацией текстов с помощью TF-IDF"
   ]
  },
  {
   "cell_type": "markdown",
   "metadata": {},
   "source": [
    "### Архитектура модели"
   ]
  },
  {
   "cell_type": "markdown",
   "metadata": {},
   "source": [
    "Среди всех рассмотренных моделей была выбрана логистическая регрессия с балансировкой классов, так как она показала самую высокую среди всех метрику F1 и самое быстрое время обучения."
   ]
  },
  {
   "cell_type": "markdown",
   "metadata": {},
   "source": [
    "**Название модели:**             LogisticRegression    \n",
    "\n",
    "**Библиотека:**                 scikit-learn   \n",
    "        \n",
    "**Тип модели:**                модель классификации   \n",
    "\n",
    "**Подобранные гиперпараметры:** random_state=12345,class_weight = 'balanced'\n",
    "                              \n",
    "**Методика обучения и    \n",
    "оценки качества модели:**       метод кросс-валидации k-Fold = 5, метрика F1 (условие проекта)\n",
    "                              \n"
   ]
  },
  {
   "cell_type": "markdown",
   "metadata": {},
   "source": [
    "### Итоговая метрика"
   ]
  },
  {
   "cell_type": "markdown",
   "metadata": {},
   "source": [
    "На логистической регрессии с балансировкой классов и ослабленной регуляризацией метрика F1  составила 0.7686723512847102, на тестовой выборке значение метрики F1 = 0.7755443886097152."
   ]
  },
  {
   "cell_type": "markdown",
   "metadata": {},
   "source": [
    "<img src=\"https://emojigraph.org/media/apple/check-mark-button_2705.png\" align=left width=33, heigth=33>\n",
    "<div class=\"alert alert-success\">\n",
    " 👍 </div>"
   ]
  },
  {
   "cell_type": "markdown",
   "metadata": {},
   "source": [
    "## Чек-лист проверки"
   ]
  },
  {
   "cell_type": "markdown",
   "metadata": {},
   "source": [
    "- [x]  Jupyter Notebook открыт\n",
    "- [ ]  Весь код выполняется без ошибок\n",
    "- [ ]  Ячейки с кодом расположены в порядке исполнения\n",
    "- [ ]  Данные загружены и подготовлены\n",
    "- [ ]  Модели обучены\n",
    "- [ ]  Значение метрики *F1* не меньше 0.75\n",
    "- [ ]  Выводы написаны"
   ]
  },
  {
   "cell_type": "markdown",
   "metadata": {},
   "source": [
    "<img src=\"http://s3.amazonaws.com/pix.iemoji.com/images/emoji/apple/ios-12/256/waving-hand.png\" align=left width=44, heigth=44>\n",
    "<div class=\"alert alert-info\">\n",
    "<b> Заключительный комментарий</b>\n",
    "Давай подведем итоги. В целом с проектом ты справляешься - текст предобработан, извлечены признаки и обучены классификаторы. Почти достигнуто требуемое значение метрики f1.\n",
    "    \n",
    "Но кое с чем нужно еще поработать. \n",
    "    \n",
    " - Пожалуста перепиши раздел с лемматизацией. Сейчас она выполняется некорректно.\n",
    " - Нужно \"дотянуться\" до метрики 0,75 на тестовой выборке  \n",
    "\n",
    "Подсказки я тебе дал, уверен что улучшить метрику у тебя получится.\n",
    "     \n",
    "Жду твоих исправлений :)\n",
    "</div>"
   ]
  },
  {
   "cell_type": "markdown",
   "metadata": {},
   "source": [
    "<img src=\"http://s3.amazonaws.com/pix.iemoji.com/images/emoji/apple/ios-12/256/waving-hand.png\" align=left width=44, heigth=44>\n",
    "<div class=\"alert alert-info\">\n",
    "<b> рекомендации по доп. материалам</b>\n",
    "Если решишь погрузиться в область работы с текстами, очень советую несколько продвинутых бесплатных курсов.\n",
    "    \n",
    "   - Отличный бесплатный курс от Школы глубокого обучения МФТИ (https://stepik.org/org/dlschool), старт курса каждые пол года. Два семестра, один по основам и компьютерному зрению, второй по обработке естественного языка. Проходить нужно именно в таком порядке,т.к. почти весь современный NLP построен на нейронках.\n",
    "    \n",
    "   - \"Нейронные сети и компьютерное зрение\" от Samsung Research Russia (https://stepik.org/course/50352/syllabus). Есть также продолжение по NLP.  \n",
    "   - Трек NLP от сообщества ODS https://ods.ai/tracks/nlp-course-autumn-22\n",
    "    \n",
    "</div>"
   ]
  },
  {
   "cell_type": "markdown",
   "metadata": {},
   "source": [
    "<div class=\"alert\" style=\"background-color:#ead7f7;color:#8737bf\">\n",
    "Спасибо, тема, правда, заинтересовала. Я, по жизни, немного тормоз, люблю сидеть и раскапывать до руды. Но тут не посидишь особо🤪.Проекты у меня примитивные, но советы и замечания от ревьюеров это прямо круть, правда, очень помогает связать разрозненные знания в логическую цепочку! СПАСИБО!\n",
    "</div>"
   ]
  },
  {
   "cell_type": "markdown",
   "metadata": {},
   "source": [
    "<div class=\"alert\" style=\"background-color:#ead7f7;color:#8737bf\">\n",
    "Отправляю на повторную проверку. Постаралась все исправить!🙂 Да и отдельная благодарность за оперативную проверку!🥰\n",
    "</div>"
   ]
  },
  {
   "cell_type": "markdown",
   "metadata": {},
   "source": [
    "<img src=\"http://s3.amazonaws.com/pix.iemoji.com/images/emoji/apple/ios-12/256/waving-hand.png\" align=left width=44, heigth=44>\n",
    "<div class=\"alert alert-info\">\n",
    "<b> Заключительный комментарий v2</b>\n",
    "\n",
    "Пожалуйста ))).     \n",
    "    \n",
    "Вижу что ты проработала мои комментарии. Теперь проект может быть принят. Поздравляю и желаю дальнейших успехов!\n",
    "\n",
    "</div>"
   ]
  },
  {
   "cell_type": "markdown",
   "metadata": {},
   "source": []
  }
 ],
 "metadata": {
  "ExecuteTimeLog": [
   {
    "duration": 4,
    "start_time": "2023-06-18T08:06:33.162Z"
   },
   {
    "duration": 74,
    "start_time": "2023-06-18T08:08:09.587Z"
   },
   {
    "duration": 403,
    "start_time": "2023-06-18T08:08:12.475Z"
   },
   {
    "duration": 3492,
    "start_time": "2023-06-18T08:08:16.083Z"
   },
   {
    "duration": 14,
    "start_time": "2023-06-18T08:09:40.598Z"
   },
   {
    "duration": 4,
    "start_time": "2023-06-18T08:10:21.714Z"
   },
   {
    "duration": 236,
    "start_time": "2023-06-18T08:10:46.052Z"
   },
   {
    "duration": 204,
    "start_time": "2023-06-18T08:10:51.669Z"
   },
   {
    "duration": 14,
    "start_time": "2023-06-18T08:12:39.618Z"
   },
   {
    "duration": 30,
    "start_time": "2023-06-18T08:18:35.768Z"
   },
   {
    "duration": 1835,
    "start_time": "2023-06-18T08:18:50.314Z"
   },
   {
    "duration": 5,
    "start_time": "2023-06-18T08:19:27.430Z"
   },
   {
    "duration": 12,
    "start_time": "2023-06-18T08:25:25.212Z"
   },
   {
    "duration": 4,
    "start_time": "2023-06-18T08:28:03.574Z"
   },
   {
    "duration": 951,
    "start_time": "2023-06-18T08:29:22.130Z"
   },
   {
    "duration": 4,
    "start_time": "2023-06-18T08:29:44.708Z"
   },
   {
    "duration": 4,
    "start_time": "2023-06-18T08:31:47.595Z"
   },
   {
    "duration": 3,
    "start_time": "2023-06-18T08:31:52.632Z"
   },
   {
    "duration": 883,
    "start_time": "2023-06-18T08:31:53.655Z"
   },
   {
    "duration": 13,
    "start_time": "2023-06-18T08:31:54.541Z"
   },
   {
    "duration": 437,
    "start_time": "2023-06-18T08:31:58.880Z"
   },
   {
    "duration": 1044,
    "start_time": "2023-06-18T08:31:59.319Z"
   },
   {
    "duration": 16,
    "start_time": "2023-06-18T08:32:00.365Z"
   },
   {
    "duration": 39,
    "start_time": "2023-06-18T08:32:00.383Z"
   },
   {
    "duration": 29,
    "start_time": "2023-06-18T08:32:00.425Z"
   },
   {
    "duration": 358,
    "start_time": "2023-06-18T08:32:00.456Z"
   },
   {
    "duration": 2035,
    "start_time": "2023-06-18T08:32:00.816Z"
   },
   {
    "duration": 5,
    "start_time": "2023-06-18T08:32:02.853Z"
   },
   {
    "duration": 17,
    "start_time": "2023-06-18T08:32:02.860Z"
   },
   {
    "duration": 114,
    "start_time": "2023-06-18T08:32:02.879Z"
   },
   {
    "duration": 0,
    "start_time": "2023-06-18T08:32:02.995Z"
   },
   {
    "duration": 5,
    "start_time": "2023-06-18T08:32:45.255Z"
   },
   {
    "duration": 5,
    "start_time": "2023-06-18T08:33:04.072Z"
   },
   {
    "duration": 3,
    "start_time": "2023-06-18T08:33:25.191Z"
   },
   {
    "duration": 15,
    "start_time": "2023-06-18T08:34:47.480Z"
   },
   {
    "duration": 809,
    "start_time": "2023-06-18T08:34:58.763Z"
   },
   {
    "duration": 862,
    "start_time": "2023-06-18T08:35:09.143Z"
   },
   {
    "duration": 97,
    "start_time": "2023-06-18T08:42:41.778Z"
   },
   {
    "duration": 66,
    "start_time": "2023-06-18T08:44:52.607Z"
   },
   {
    "duration": 70,
    "start_time": "2023-06-18T08:45:09.545Z"
   },
   {
    "duration": 3,
    "start_time": "2023-06-18T08:45:15.452Z"
   },
   {
    "duration": 70,
    "start_time": "2023-06-18T08:45:50.635Z"
   },
   {
    "duration": 100,
    "start_time": "2023-06-18T08:46:36.837Z"
   },
   {
    "duration": 81,
    "start_time": "2023-06-18T08:46:48.911Z"
   },
   {
    "duration": 358,
    "start_time": "2023-06-18T09:01:57.969Z"
   },
   {
    "duration": 816,
    "start_time": "2023-06-18T09:01:58.330Z"
   },
   {
    "duration": 14,
    "start_time": "2023-06-18T09:01:59.148Z"
   },
   {
    "duration": 17,
    "start_time": "2023-06-18T09:01:59.163Z"
   },
   {
    "duration": 8,
    "start_time": "2023-06-18T09:01:59.182Z"
   },
   {
    "duration": 247,
    "start_time": "2023-06-18T09:01:59.192Z"
   },
   {
    "duration": 1929,
    "start_time": "2023-06-18T09:01:59.440Z"
   },
   {
    "duration": 48,
    "start_time": "2023-06-18T09:02:01.371Z"
   },
   {
    "duration": 26,
    "start_time": "2023-06-18T09:02:01.421Z"
   },
   {
    "duration": 15,
    "start_time": "2023-06-18T09:02:01.449Z"
   },
   {
    "duration": 18,
    "start_time": "2023-06-18T09:02:01.466Z"
   },
   {
    "duration": 3,
    "start_time": "2023-06-18T09:02:48.746Z"
   },
   {
    "duration": 74,
    "start_time": "2023-06-18T09:03:46.802Z"
   },
   {
    "duration": 2023,
    "start_time": "2023-06-18T09:04:07.442Z"
   },
   {
    "duration": 3,
    "start_time": "2023-06-18T09:05:18.062Z"
   },
   {
    "duration": 8,
    "start_time": "2023-06-18T09:08:51.014Z"
   },
   {
    "duration": 4,
    "start_time": "2023-06-18T09:08:59.676Z"
   },
   {
    "duration": 13,
    "start_time": "2023-06-18T09:09:01.018Z"
   },
   {
    "duration": 424,
    "start_time": "2023-06-18T09:10:35.038Z"
   },
   {
    "duration": 902,
    "start_time": "2023-06-18T09:10:35.465Z"
   },
   {
    "duration": 14,
    "start_time": "2023-06-18T09:10:36.368Z"
   },
   {
    "duration": 34,
    "start_time": "2023-06-18T09:10:36.384Z"
   },
   {
    "duration": 4,
    "start_time": "2023-06-18T09:10:36.421Z"
   },
   {
    "duration": 262,
    "start_time": "2023-06-18T09:10:36.427Z"
   },
   {
    "duration": 39,
    "start_time": "2023-06-18T09:10:36.691Z"
   },
   {
    "duration": 2142,
    "start_time": "2023-06-18T09:10:36.733Z"
   },
   {
    "duration": 16,
    "start_time": "2023-06-18T09:10:38.916Z"
   },
   {
    "duration": 280,
    "start_time": "2023-06-18T09:10:38.935Z"
   },
   {
    "duration": 0,
    "start_time": "2023-06-18T09:10:39.217Z"
   },
   {
    "duration": 0,
    "start_time": "2023-06-18T09:10:39.218Z"
   },
   {
    "duration": 0,
    "start_time": "2023-06-18T09:10:39.219Z"
   },
   {
    "duration": 35,
    "start_time": "2023-06-18T09:11:08.598Z"
   },
   {
    "duration": 3,
    "start_time": "2023-06-18T09:11:11.334Z"
   },
   {
    "duration": 12,
    "start_time": "2023-06-18T09:11:11.842Z"
   },
   {
    "duration": 4,
    "start_time": "2023-06-18T09:12:24.898Z"
   },
   {
    "duration": 3,
    "start_time": "2023-06-18T09:12:39.028Z"
   },
   {
    "duration": 4,
    "start_time": "2023-06-18T09:13:37.852Z"
   },
   {
    "duration": 14,
    "start_time": "2023-06-18T09:13:41.274Z"
   },
   {
    "duration": 4,
    "start_time": "2023-06-18T09:14:45.327Z"
   },
   {
    "duration": 841,
    "start_time": "2023-06-18T09:14:50.167Z"
   },
   {
    "duration": 3,
    "start_time": "2023-06-18T09:14:52.520Z"
   },
   {
    "duration": 883,
    "start_time": "2023-06-18T09:14:53.293Z"
   },
   {
    "duration": 8,
    "start_time": "2023-06-18T09:14:54.178Z"
   },
   {
    "duration": 399,
    "start_time": "2023-06-18T09:14:57.950Z"
   },
   {
    "duration": 911,
    "start_time": "2023-06-18T09:14:58.351Z"
   },
   {
    "duration": 15,
    "start_time": "2023-06-18T09:14:59.264Z"
   },
   {
    "duration": 18,
    "start_time": "2023-06-18T09:14:59.281Z"
   },
   {
    "duration": 18,
    "start_time": "2023-06-18T09:14:59.301Z"
   },
   {
    "duration": 269,
    "start_time": "2023-06-18T09:14:59.321Z"
   },
   {
    "duration": 42,
    "start_time": "2023-06-18T09:14:59.592Z"
   },
   {
    "duration": 16,
    "start_time": "2023-06-18T09:14:59.637Z"
   },
   {
    "duration": 33,
    "start_time": "2023-06-18T09:14:59.656Z"
   },
   {
    "duration": 18,
    "start_time": "2023-06-18T09:14:59.694Z"
   },
   {
    "duration": 96,
    "start_time": "2023-06-18T09:14:59.714Z"
   },
   {
    "duration": 0,
    "start_time": "2023-06-18T09:14:59.813Z"
   },
   {
    "duration": 1,
    "start_time": "2023-06-18T09:14:59.814Z"
   },
   {
    "duration": 0,
    "start_time": "2023-06-18T09:14:59.816Z"
   },
   {
    "duration": 11,
    "start_time": "2023-06-18T09:16:06.763Z"
   },
   {
    "duration": 7,
    "start_time": "2023-06-18T09:16:33.177Z"
   },
   {
    "duration": 3,
    "start_time": "2023-06-18T09:16:42.029Z"
   },
   {
    "duration": 18,
    "start_time": "2023-06-18T09:16:45.510Z"
   },
   {
    "duration": 12,
    "start_time": "2023-06-18T09:17:02.734Z"
   },
   {
    "duration": 16,
    "start_time": "2023-06-18T09:17:36.868Z"
   },
   {
    "duration": 3,
    "start_time": "2023-06-18T09:17:44.209Z"
   },
   {
    "duration": 5,
    "start_time": "2023-06-18T09:17:44.847Z"
   },
   {
    "duration": 4,
    "start_time": "2023-06-18T09:17:46.743Z"
   },
   {
    "duration": 24,
    "start_time": "2023-06-18T09:17:48.009Z"
   },
   {
    "duration": 3,
    "start_time": "2023-06-18T09:18:07.515Z"
   },
   {
    "duration": 15,
    "start_time": "2023-06-18T09:18:33.628Z"
   },
   {
    "duration": 38,
    "start_time": "2023-06-18T09:20:32.709Z"
   },
   {
    "duration": 3,
    "start_time": "2023-06-18T09:20:36.709Z"
   },
   {
    "duration": 11,
    "start_time": "2023-06-18T09:20:37.835Z"
   },
   {
    "duration": 3,
    "start_time": "2023-06-18T09:21:21.844Z"
   },
   {
    "duration": 459,
    "start_time": "2023-06-18T09:21:55.128Z"
   },
   {
    "duration": 975,
    "start_time": "2023-06-18T09:21:55.589Z"
   },
   {
    "duration": 20,
    "start_time": "2023-06-18T09:21:56.566Z"
   },
   {
    "duration": 29,
    "start_time": "2023-06-18T09:21:56.589Z"
   },
   {
    "duration": 11,
    "start_time": "2023-06-18T09:21:56.621Z"
   },
   {
    "duration": 285,
    "start_time": "2023-06-18T09:21:56.634Z"
   },
   {
    "duration": 33,
    "start_time": "2023-06-18T09:21:56.922Z"
   },
   {
    "duration": 33,
    "start_time": "2023-06-18T09:21:56.958Z"
   },
   {
    "duration": 95,
    "start_time": "2023-06-18T09:21:56.993Z"
   },
   {
    "duration": 0,
    "start_time": "2023-06-18T09:21:57.091Z"
   },
   {
    "duration": 0,
    "start_time": "2023-06-18T09:21:57.093Z"
   },
   {
    "duration": 0,
    "start_time": "2023-06-18T09:21:57.095Z"
   },
   {
    "duration": 0,
    "start_time": "2023-06-18T09:21:57.096Z"
   },
   {
    "duration": 0,
    "start_time": "2023-06-18T09:21:57.097Z"
   },
   {
    "duration": 0,
    "start_time": "2023-06-18T09:21:57.099Z"
   },
   {
    "duration": 0,
    "start_time": "2023-06-18T09:21:57.115Z"
   },
   {
    "duration": 0,
    "start_time": "2023-06-18T09:21:57.117Z"
   },
   {
    "duration": 0,
    "start_time": "2023-06-18T09:21:57.119Z"
   },
   {
    "duration": 2196,
    "start_time": "2023-06-18T09:26:17.019Z"
   },
   {
    "duration": 5,
    "start_time": "2023-06-18T09:26:43.344Z"
   },
   {
    "duration": 3,
    "start_time": "2023-06-18T09:39:00.601Z"
   },
   {
    "duration": 3,
    "start_time": "2023-06-18T09:39:22.660Z"
   },
   {
    "duration": 776,
    "start_time": "2023-06-18T09:40:17.508Z"
   },
   {
    "duration": 467,
    "start_time": "2023-06-18T10:11:41.216Z"
   },
   {
    "duration": 908,
    "start_time": "2023-06-18T10:11:41.685Z"
   },
   {
    "duration": 33,
    "start_time": "2023-06-18T10:11:42.595Z"
   },
   {
    "duration": 18,
    "start_time": "2023-06-18T10:11:42.634Z"
   },
   {
    "duration": 29,
    "start_time": "2023-06-18T10:11:42.654Z"
   },
   {
    "duration": 337,
    "start_time": "2023-06-18T10:11:42.685Z"
   },
   {
    "duration": 5,
    "start_time": "2023-06-18T10:11:43.024Z"
   },
   {
    "duration": 4,
    "start_time": "2023-06-18T10:11:43.033Z"
   },
   {
    "duration": 3641,
    "start_time": "2023-06-18T10:11:43.039Z"
   },
   {
    "duration": 3,
    "start_time": "2023-06-18T10:11:46.682Z"
   },
   {
    "duration": 452,
    "start_time": "2023-06-18T10:38:32.032Z"
   },
   {
    "duration": 851,
    "start_time": "2023-06-18T10:38:32.487Z"
   },
   {
    "duration": 15,
    "start_time": "2023-06-18T10:38:33.339Z"
   },
   {
    "duration": 10,
    "start_time": "2023-06-18T10:38:33.356Z"
   },
   {
    "duration": 5,
    "start_time": "2023-06-18T10:38:33.368Z"
   },
   {
    "duration": 269,
    "start_time": "2023-06-18T10:38:33.374Z"
   },
   {
    "duration": 4,
    "start_time": "2023-06-18T10:38:33.645Z"
   },
   {
    "duration": 28,
    "start_time": "2023-06-18T10:38:33.651Z"
   },
   {
    "duration": 3453,
    "start_time": "2023-06-18T10:38:33.681Z"
   },
   {
    "duration": 3,
    "start_time": "2023-06-18T10:38:37.136Z"
   },
   {
    "duration": 34,
    "start_time": "2023-06-18T10:38:37.140Z"
   },
   {
    "duration": 17,
    "start_time": "2023-06-18T10:38:37.176Z"
   },
   {
    "duration": 61,
    "start_time": "2023-06-18T10:38:37.195Z"
   },
   {
    "duration": 0,
    "start_time": "2023-06-18T10:38:37.258Z"
   },
   {
    "duration": 0,
    "start_time": "2023-06-18T10:38:37.260Z"
   },
   {
    "duration": 0,
    "start_time": "2023-06-18T10:38:37.261Z"
   },
   {
    "duration": 1008,
    "start_time": "2023-06-18T11:02:34.456Z"
   },
   {
    "duration": 3,
    "start_time": "2023-06-18T11:04:16.800Z"
   },
   {
    "duration": 3,
    "start_time": "2023-06-18T11:04:36.536Z"
   },
   {
    "duration": 114,
    "start_time": "2023-06-18T11:05:48.429Z"
   },
   {
    "duration": 1305,
    "start_time": "2023-06-18T11:06:33.037Z"
   },
   {
    "duration": 827,
    "start_time": "2023-06-18T11:06:34.344Z"
   },
   {
    "duration": 14,
    "start_time": "2023-06-18T11:06:35.173Z"
   },
   {
    "duration": 35,
    "start_time": "2023-06-18T11:06:35.189Z"
   },
   {
    "duration": 6,
    "start_time": "2023-06-18T11:06:35.231Z"
   },
   {
    "duration": 279,
    "start_time": "2023-06-18T11:06:35.239Z"
   },
   {
    "duration": 6,
    "start_time": "2023-06-18T11:06:35.519Z"
   },
   {
    "duration": 3264,
    "start_time": "2023-06-18T11:06:35.527Z"
   },
   {
    "duration": 3,
    "start_time": "2023-06-18T11:06:38.793Z"
   },
   {
    "duration": 40,
    "start_time": "2023-06-18T11:06:38.797Z"
   },
   {
    "duration": 145987,
    "start_time": "2023-06-18T11:06:38.841Z"
   },
   {
    "duration": 7,
    "start_time": "2023-06-18T11:09:04.830Z"
   },
   {
    "duration": 5,
    "start_time": "2023-06-18T11:09:04.839Z"
   },
   {
    "duration": 15,
    "start_time": "2023-06-18T11:09:53.946Z"
   },
   {
    "duration": 4,
    "start_time": "2023-06-18T11:12:58.295Z"
   },
   {
    "duration": 91350,
    "start_time": "2023-06-18T11:13:01.340Z"
   },
   {
    "duration": 61,
    "start_time": "2023-06-18T12:59:43.725Z"
   },
   {
    "duration": 1404,
    "start_time": "2023-06-18T12:59:53.743Z"
   },
   {
    "duration": 3706,
    "start_time": "2023-06-18T12:59:55.149Z"
   },
   {
    "duration": 26,
    "start_time": "2023-06-18T12:59:58.857Z"
   },
   {
    "duration": 20,
    "start_time": "2023-06-18T12:59:58.884Z"
   },
   {
    "duration": 4,
    "start_time": "2023-06-18T12:59:58.906Z"
   },
   {
    "duration": 259,
    "start_time": "2023-06-18T12:59:58.912Z"
   },
   {
    "duration": 5,
    "start_time": "2023-06-18T12:59:59.172Z"
   },
   {
    "duration": 3794,
    "start_time": "2023-06-18T12:59:59.178Z"
   },
   {
    "duration": 3,
    "start_time": "2023-06-18T13:00:02.974Z"
   },
   {
    "duration": 8,
    "start_time": "2023-06-18T13:00:02.979Z"
   },
   {
    "duration": 92214,
    "start_time": "2023-06-18T13:00:02.991Z"
   },
   {
    "duration": 8,
    "start_time": "2023-06-18T13:01:35.207Z"
   },
   {
    "duration": 1321,
    "start_time": "2023-06-18T13:01:35.216Z"
   },
   {
    "duration": 0,
    "start_time": "2023-06-18T13:01:36.538Z"
   },
   {
    "duration": 0,
    "start_time": "2023-06-18T13:01:36.541Z"
   },
   {
    "duration": 3,
    "start_time": "2023-06-18T13:11:40.950Z"
   },
   {
    "duration": 3,
    "start_time": "2023-06-18T13:12:02.322Z"
   },
   {
    "duration": 12,
    "start_time": "2023-06-18T13:12:40.423Z"
   },
   {
    "duration": 2,
    "start_time": "2023-06-18T13:12:57.079Z"
   },
   {
    "duration": 4,
    "start_time": "2023-06-18T13:12:58.003Z"
   },
   {
    "duration": 11,
    "start_time": "2023-06-18T13:13:19.869Z"
   },
   {
    "duration": 5,
    "start_time": "2023-06-18T13:13:26.679Z"
   },
   {
    "duration": 4,
    "start_time": "2023-06-18T13:18:10.289Z"
   },
   {
    "duration": 4,
    "start_time": "2023-06-18T13:26:45.331Z"
   },
   {
    "duration": 11,
    "start_time": "2023-06-18T13:26:50.237Z"
   },
   {
    "duration": 34,
    "start_time": "2023-06-18T13:26:59.304Z"
   },
   {
    "duration": 4,
    "start_time": "2023-06-18T13:27:41.009Z"
   },
   {
    "duration": 3,
    "start_time": "2023-06-18T13:27:57.914Z"
   },
   {
    "duration": 2018,
    "start_time": "2023-06-18T13:29:56.694Z"
   },
   {
    "duration": 12,
    "start_time": "2023-06-18T13:30:02.404Z"
   },
   {
    "duration": 78,
    "start_time": "2023-06-18T13:30:30.451Z"
   },
   {
    "duration": 1495,
    "start_time": "2023-06-18T13:31:56.852Z"
   },
   {
    "duration": 4188,
    "start_time": "2023-06-18T13:31:58.350Z"
   },
   {
    "duration": 16,
    "start_time": "2023-06-18T13:32:02.540Z"
   },
   {
    "duration": 32,
    "start_time": "2023-06-18T13:32:02.571Z"
   },
   {
    "duration": 5,
    "start_time": "2023-06-18T13:32:02.606Z"
   },
   {
    "duration": 262,
    "start_time": "2023-06-18T13:32:02.613Z"
   },
   {
    "duration": 3,
    "start_time": "2023-06-18T13:32:02.876Z"
   },
   {
    "duration": 4071,
    "start_time": "2023-06-18T13:32:02.882Z"
   },
   {
    "duration": 16,
    "start_time": "2023-06-18T13:32:06.955Z"
   },
   {
    "duration": 4,
    "start_time": "2023-06-18T13:32:06.973Z"
   },
   {
    "duration": 90341,
    "start_time": "2023-06-18T13:32:06.978Z"
   },
   {
    "duration": 9,
    "start_time": "2023-06-18T13:33:37.321Z"
   },
   {
    "duration": 1892,
    "start_time": "2023-06-18T13:33:37.331Z"
   },
   {
    "duration": 60,
    "start_time": "2023-06-18T13:34:22.499Z"
   },
   {
    "duration": 1442,
    "start_time": "2023-06-18T13:35:05.186Z"
   },
   {
    "duration": 3901,
    "start_time": "2023-06-18T13:35:06.630Z"
   },
   {
    "duration": 15,
    "start_time": "2023-06-18T13:35:10.532Z"
   },
   {
    "duration": 20,
    "start_time": "2023-06-18T13:35:10.549Z"
   },
   {
    "duration": 16,
    "start_time": "2023-06-18T13:35:10.574Z"
   },
   {
    "duration": 249,
    "start_time": "2023-06-18T13:35:10.593Z"
   },
   {
    "duration": 3,
    "start_time": "2023-06-18T13:35:10.843Z"
   },
   {
    "duration": 3792,
    "start_time": "2023-06-18T13:35:10.848Z"
   },
   {
    "duration": 3,
    "start_time": "2023-06-18T13:35:14.641Z"
   },
   {
    "duration": 9,
    "start_time": "2023-06-18T13:35:14.657Z"
   },
   {
    "duration": 89972,
    "start_time": "2023-06-18T13:35:14.667Z"
   },
   {
    "duration": 16,
    "start_time": "2023-06-18T13:36:44.642Z"
   },
   {
    "duration": 2046,
    "start_time": "2023-06-18T13:36:44.666Z"
   },
   {
    "duration": 1504,
    "start_time": "2023-06-18T14:14:29.643Z"
   },
   {
    "duration": 4083,
    "start_time": "2023-06-18T14:14:31.149Z"
   },
   {
    "duration": 14,
    "start_time": "2023-06-18T14:14:35.234Z"
   },
   {
    "duration": 19,
    "start_time": "2023-06-18T14:14:35.250Z"
   },
   {
    "duration": 14,
    "start_time": "2023-06-18T14:14:35.274Z"
   },
   {
    "duration": 235,
    "start_time": "2023-06-18T14:14:35.290Z"
   },
   {
    "duration": 3,
    "start_time": "2023-06-18T14:14:35.527Z"
   },
   {
    "duration": 3505,
    "start_time": "2023-06-18T14:14:35.531Z"
   },
   {
    "duration": 3,
    "start_time": "2023-06-18T14:14:39.038Z"
   },
   {
    "duration": 14,
    "start_time": "2023-06-18T14:14:39.044Z"
   },
   {
    "duration": 89537,
    "start_time": "2023-06-18T14:14:39.059Z"
   },
   {
    "duration": 8,
    "start_time": "2023-06-18T14:16:08.598Z"
   },
   {
    "duration": 1354,
    "start_time": "2023-06-18T15:58:11.709Z"
   },
   {
    "duration": 2573,
    "start_time": "2023-06-18T15:58:13.065Z"
   },
   {
    "duration": 18,
    "start_time": "2023-06-18T15:58:15.640Z"
   },
   {
    "duration": 24,
    "start_time": "2023-06-18T15:58:15.660Z"
   },
   {
    "duration": 7,
    "start_time": "2023-06-18T15:58:15.686Z"
   },
   {
    "duration": 255,
    "start_time": "2023-06-18T15:58:15.695Z"
   },
   {
    "duration": 4,
    "start_time": "2023-06-18T15:58:15.952Z"
   },
   {
    "duration": 3117,
    "start_time": "2023-06-18T15:58:15.957Z"
   },
   {
    "duration": 4,
    "start_time": "2023-06-18T15:58:19.075Z"
   },
   {
    "duration": 26,
    "start_time": "2023-06-18T15:58:19.080Z"
   },
   {
    "duration": 81011,
    "start_time": "2023-06-18T15:58:19.107Z"
   },
   {
    "duration": 15,
    "start_time": "2023-06-18T15:59:40.120Z"
   },
   {
    "duration": 100,
    "start_time": "2023-06-18T15:59:40.137Z"
   },
   {
    "duration": 114,
    "start_time": "2023-06-18T15:59:40.240Z"
   },
   {
    "duration": 18,
    "start_time": "2023-06-18T15:59:40.356Z"
   },
   {
    "duration": 178,
    "start_time": "2023-06-18T15:59:40.375Z"
   },
   {
    "duration": 121,
    "start_time": "2023-06-18T15:59:40.554Z"
   },
   {
    "duration": 0,
    "start_time": "2023-06-18T15:59:40.676Z"
   },
   {
    "duration": 0,
    "start_time": "2023-06-18T15:59:40.678Z"
   },
   {
    "duration": 0,
    "start_time": "2023-06-18T15:59:40.679Z"
   },
   {
    "duration": 0,
    "start_time": "2023-06-18T15:59:40.681Z"
   },
   {
    "duration": 4,
    "start_time": "2023-06-18T16:01:10.984Z"
   },
   {
    "duration": 11,
    "start_time": "2023-06-18T16:01:20.732Z"
   },
   {
    "duration": 4,
    "start_time": "2023-06-18T16:11:31.788Z"
   },
   {
    "duration": 67,
    "start_time": "2023-06-18T18:29:50.903Z"
   },
   {
    "duration": 1340,
    "start_time": "2023-06-18T18:29:58.341Z"
   },
   {
    "duration": 4282,
    "start_time": "2023-06-18T18:29:59.684Z"
   },
   {
    "duration": 19,
    "start_time": "2023-06-18T18:30:03.968Z"
   },
   {
    "duration": 14,
    "start_time": "2023-06-18T18:30:03.989Z"
   },
   {
    "duration": 28,
    "start_time": "2023-06-18T18:30:04.005Z"
   },
   {
    "duration": 289,
    "start_time": "2023-06-18T18:30:04.046Z"
   },
   {
    "duration": 14,
    "start_time": "2023-06-18T18:30:04.337Z"
   },
   {
    "duration": 3968,
    "start_time": "2023-06-18T18:30:04.355Z"
   },
   {
    "duration": 3,
    "start_time": "2023-06-18T18:30:08.325Z"
   },
   {
    "duration": 31,
    "start_time": "2023-06-18T18:30:08.330Z"
   },
   {
    "duration": 100930,
    "start_time": "2023-06-18T18:30:08.366Z"
   },
   {
    "duration": 8,
    "start_time": "2023-06-18T18:31:49.297Z"
   },
   {
    "duration": 2,
    "start_time": "2023-06-18T18:31:49.316Z"
   },
   {
    "duration": 46,
    "start_time": "2023-06-18T18:31:49.328Z"
   },
   {
    "duration": 6,
    "start_time": "2023-06-18T18:31:49.375Z"
   },
   {
    "duration": 205,
    "start_time": "2023-06-18T18:31:49.382Z"
   },
   {
    "duration": 171,
    "start_time": "2023-06-18T18:31:49.589Z"
   },
   {
    "duration": 0,
    "start_time": "2023-06-18T18:31:49.762Z"
   },
   {
    "duration": 0,
    "start_time": "2023-06-18T18:31:49.766Z"
   },
   {
    "duration": 0,
    "start_time": "2023-06-18T18:31:49.767Z"
   },
   {
    "duration": 0,
    "start_time": "2023-06-18T18:31:49.768Z"
   },
   {
    "duration": 7183,
    "start_time": "2023-06-18T18:32:13.433Z"
   },
   {
    "duration": 1714,
    "start_time": "2023-06-18T18:32:46.349Z"
   },
   {
    "duration": 15,
    "start_time": "2023-06-18T18:44:39.722Z"
   },
   {
    "duration": 4,
    "start_time": "2023-06-18T18:45:40.189Z"
   },
   {
    "duration": 143787,
    "start_time": "2023-06-18T18:45:45.042Z"
   },
   {
    "duration": 145058,
    "start_time": "2023-06-18T18:55:51.799Z"
   },
   {
    "duration": 3,
    "start_time": "2023-06-18T19:00:47.092Z"
   },
   {
    "duration": 3,
    "start_time": "2023-06-18T19:06:29.568Z"
   },
   {
    "duration": 46,
    "start_time": "2023-06-18T19:06:52.601Z"
   },
   {
    "duration": 2288395,
    "start_time": "2023-06-18T19:08:01.653Z"
   },
   {
    "duration": 21,
    "start_time": "2023-06-18T19:46:50.133Z"
   },
   {
    "duration": 8,
    "start_time": "2023-06-18T19:46:57.755Z"
   },
   {
    "duration": 7,
    "start_time": "2023-06-18T19:47:07.446Z"
   },
   {
    "duration": 54,
    "start_time": "2023-06-18T19:48:05.239Z"
   },
   {
    "duration": 1228224,
    "start_time": "2023-06-18T19:48:10.138Z"
   },
   {
    "duration": 116,
    "start_time": "2023-06-18T20:12:27.593Z"
   },
   {
    "duration": 133,
    "start_time": "2023-06-18T20:12:51.704Z"
   },
   {
    "duration": 4,
    "start_time": "2023-06-18T20:12:57.110Z"
   },
   {
    "duration": 5,
    "start_time": "2023-06-18T20:13:53.656Z"
   },
   {
    "duration": 3,
    "start_time": "2023-06-18T20:19:34.733Z"
   },
   {
    "duration": 4,
    "start_time": "2023-06-18T20:20:55.264Z"
   },
   {
    "duration": 49410,
    "start_time": "2023-06-18T20:22:03.769Z"
   },
   {
    "duration": 5,
    "start_time": "2023-06-18T20:23:33.328Z"
   },
   {
    "duration": 42,
    "start_time": "2023-06-18T20:25:50.139Z"
   },
   {
    "duration": 202,
    "start_time": "2023-06-18T20:27:53.735Z"
   },
   {
    "duration": 31,
    "start_time": "2023-06-18T20:28:00.538Z"
   },
   {
    "duration": 23,
    "start_time": "2023-06-18T20:30:42.304Z"
   },
   {
    "duration": 17,
    "start_time": "2023-06-18T20:32:35.858Z"
   },
   {
    "duration": 851,
    "start_time": "2023-06-18T20:46:22.990Z"
   },
   {
    "duration": 9,
    "start_time": "2023-06-18T20:46:44.876Z"
   },
   {
    "duration": 8,
    "start_time": "2023-06-18T20:47:10.696Z"
   },
   {
    "duration": 10,
    "start_time": "2023-06-18T20:49:52.376Z"
   },
   {
    "duration": 33,
    "start_time": "2023-06-18T20:50:21.348Z"
   },
   {
    "duration": 198,
    "start_time": "2023-06-18T20:50:44.275Z"
   },
   {
    "duration": 45,
    "start_time": "2023-06-19T10:27:08.318Z"
   },
   {
    "duration": 1923,
    "start_time": "2023-06-19T10:27:15.947Z"
   },
   {
    "duration": 3175,
    "start_time": "2023-06-19T10:27:22.596Z"
   },
   {
    "duration": 11,
    "start_time": "2023-06-19T10:27:27.427Z"
   },
   {
    "duration": 32,
    "start_time": "2023-06-19T10:27:29.792Z"
   },
   {
    "duration": 2231,
    "start_time": "2023-06-19T17:14:13.777Z"
   },
   {
    "duration": 3468,
    "start_time": "2023-06-19T17:14:27.586Z"
   },
   {
    "duration": 13,
    "start_time": "2023-06-19T17:14:31.057Z"
   },
   {
    "duration": 54,
    "start_time": "2023-06-19T17:14:31.072Z"
   },
   {
    "duration": 10,
    "start_time": "2023-06-19T17:14:35.202Z"
   },
   {
    "duration": 3,
    "start_time": "2023-06-19T17:14:40.289Z"
   },
   {
    "duration": 212,
    "start_time": "2023-06-19T17:14:41.993Z"
   },
   {
    "duration": 5,
    "start_time": "2023-06-19T17:14:54.109Z"
   },
   {
    "duration": 3,
    "start_time": "2023-06-19T17:15:49.198Z"
   },
   {
    "duration": 4,
    "start_time": "2023-06-19T17:16:12.939Z"
   },
   {
    "duration": 108,
    "start_time": "2023-06-19T17:22:12.498Z"
   },
   {
    "duration": 3,
    "start_time": "2023-06-19T17:22:50.984Z"
   },
   {
    "duration": 65,
    "start_time": "2023-06-19T17:34:02.542Z"
   },
   {
    "duration": 103,
    "start_time": "2023-06-19T17:34:12.451Z"
   },
   {
    "duration": 3,
    "start_time": "2023-06-19T17:34:28.597Z"
   },
   {
    "duration": 3,
    "start_time": "2023-06-19T17:46:05.450Z"
   },
   {
    "duration": 3,
    "start_time": "2023-06-19T17:49:07.278Z"
   },
   {
    "duration": 2963,
    "start_time": "2023-06-19T17:49:28.366Z"
   },
   {
    "duration": 8,
    "start_time": "2023-06-19T17:52:26.695Z"
   },
   {
    "duration": 6,
    "start_time": "2023-06-19T17:54:04.049Z"
   },
   {
    "duration": 3,
    "start_time": "2023-06-19T17:54:37.072Z"
   },
   {
    "duration": 2,
    "start_time": "2023-06-19T17:58:42.212Z"
   },
   {
    "duration": 4,
    "start_time": "2023-06-19T17:58:54.201Z"
   },
   {
    "duration": 943,
    "start_time": "2023-06-19T17:59:00.561Z"
   },
   {
    "duration": 7,
    "start_time": "2023-06-19T17:59:59.638Z"
   },
   {
    "duration": 36,
    "start_time": "2023-06-19T18:05:21.583Z"
   },
   {
    "duration": 301,
    "start_time": "2023-06-19T18:05:30.236Z"
   },
   {
    "duration": 370,
    "start_time": "2023-06-19T18:05:56.178Z"
   },
   {
    "duration": 1037064,
    "start_time": "2023-06-19T18:06:02.171Z"
   },
   {
    "duration": 8,
    "start_time": "2023-06-19T18:25:35.707Z"
   },
   {
    "duration": 19,
    "start_time": "2023-06-19T19:01:26.457Z"
   },
   {
    "duration": 10,
    "start_time": "2023-06-19T19:01:58.941Z"
   },
   {
    "duration": 4,
    "start_time": "2023-06-19T19:05:45.313Z"
   },
   {
    "duration": 290,
    "start_time": "2023-06-19T19:05:48.916Z"
   },
   {
    "duration": 3,
    "start_time": "2023-06-19T19:09:38.093Z"
   },
   {
    "duration": 2866,
    "start_time": "2023-06-19T19:09:40.795Z"
   },
   {
    "duration": 3091,
    "start_time": "2023-06-19T19:12:55.013Z"
   },
   {
    "duration": 8,
    "start_time": "2023-06-19T19:13:24.340Z"
   },
   {
    "duration": 1896,
    "start_time": "2023-06-19T19:16:14.231Z"
   },
   {
    "duration": 778,
    "start_time": "2023-06-19T19:16:16.129Z"
   },
   {
    "duration": 11,
    "start_time": "2023-06-19T19:16:16.910Z"
   },
   {
    "duration": 30,
    "start_time": "2023-06-19T19:16:16.922Z"
   },
   {
    "duration": 10,
    "start_time": "2023-06-19T19:16:16.968Z"
   },
   {
    "duration": 4,
    "start_time": "2023-06-19T19:16:16.979Z"
   },
   {
    "duration": 231,
    "start_time": "2023-06-19T19:16:16.984Z"
   },
   {
    "duration": 3,
    "start_time": "2023-06-19T19:16:17.217Z"
   },
   {
    "duration": 3047,
    "start_time": "2023-06-19T19:16:17.223Z"
   },
   {
    "duration": 8,
    "start_time": "2023-06-19T19:16:20.271Z"
   },
   {
    "duration": 7,
    "start_time": "2023-06-19T19:16:20.280Z"
   },
   {
    "duration": 6,
    "start_time": "2023-06-19T19:16:20.288Z"
   },
   {
    "duration": 5,
    "start_time": "2023-06-19T19:16:20.295Z"
   },
   {
    "duration": 1042504,
    "start_time": "2023-06-19T19:16:20.302Z"
   },
   {
    "duration": 9,
    "start_time": "2023-06-19T19:33:42.808Z"
   },
   {
    "duration": 10,
    "start_time": "2023-06-19T19:33:42.818Z"
   },
   {
    "duration": 39,
    "start_time": "2023-06-19T19:33:42.830Z"
   },
   {
    "duration": 4,
    "start_time": "2023-06-19T19:33:42.870Z"
   },
   {
    "duration": 16,
    "start_time": "2023-06-19T19:33:42.875Z"
   },
   {
    "duration": 6033,
    "start_time": "2023-06-19T19:33:42.892Z"
   },
   {
    "duration": 640,
    "start_time": "2023-06-19T19:33:48.926Z"
   },
   {
    "duration": 5,
    "start_time": "2023-06-19T19:33:49.568Z"
   },
   {
    "duration": 12,
    "start_time": "2023-06-19T19:33:49.575Z"
   },
   {
    "duration": 138484,
    "start_time": "2023-06-19T19:33:49.589Z"
   },
   {
    "duration": 3,
    "start_time": "2023-06-19T19:36:08.074Z"
   },
   {
    "duration": 6,
    "start_time": "2023-06-19T19:36:08.078Z"
   },
   {
    "duration": 1019039,
    "start_time": "2023-06-19T19:36:08.087Z"
   },
   {
    "duration": 3,
    "start_time": "2023-06-19T19:53:07.127Z"
   },
   {
    "duration": 132,
    "start_time": "2023-06-19T19:53:07.131Z"
   },
   {
    "duration": 0,
    "start_time": "2023-06-19T19:53:07.271Z"
   },
   {
    "duration": 0,
    "start_time": "2023-06-19T19:53:07.272Z"
   },
   {
    "duration": 0,
    "start_time": "2023-06-19T19:53:07.273Z"
   },
   {
    "duration": 11,
    "start_time": "2023-06-19T19:56:11.934Z"
   },
   {
    "duration": 144124,
    "start_time": "2023-06-19T19:56:41.355Z"
   },
   {
    "duration": 3,
    "start_time": "2023-06-19T19:59:40.704Z"
   },
   {
    "duration": 13,
    "start_time": "2023-06-19T20:01:58.951Z"
   },
   {
    "duration": 10,
    "start_time": "2023-06-19T20:03:54.918Z"
   },
   {
    "duration": 145303,
    "start_time": "2023-06-19T20:04:03.876Z"
   },
   {
    "duration": 12,
    "start_time": "2023-06-19T20:08:33.476Z"
   },
   {
    "duration": 3,
    "start_time": "2023-06-19T20:10:06.724Z"
   },
   {
    "duration": 56781,
    "start_time": "2023-06-19T20:11:15.999Z"
   },
   {
    "duration": 11,
    "start_time": "2023-06-19T20:12:20.262Z"
   },
   {
    "duration": 6,
    "start_time": "2023-06-19T20:12:42.431Z"
   },
   {
    "duration": 5,
    "start_time": "2023-06-19T20:12:43.383Z"
   },
   {
    "duration": 125,
    "start_time": "2023-06-19T20:12:44.111Z"
   },
   {
    "duration": 66,
    "start_time": "2023-06-19T20:19:59.176Z"
   }
  ],
  "kernelspec": {
   "display_name": "Python 3 (ipykernel)",
   "language": "python",
   "name": "python3"
  },
  "language_info": {
   "codemirror_mode": {
    "name": "ipython",
    "version": 3
   },
   "file_extension": ".py",
   "mimetype": "text/x-python",
   "name": "python",
   "nbconvert_exporter": "python",
   "pygments_lexer": "ipython3",
   "version": "3.10.9"
  },
  "toc": {
   "base_numbering": 1,
   "nav_menu": {},
   "number_sections": true,
   "sideBar": true,
   "skip_h1_title": true,
   "title_cell": "Содержание",
   "title_sidebar": "Contents",
   "toc_cell": true,
   "toc_position": {
    "height": "calc(100% - 180px)",
    "left": "10px",
    "top": "150px",
    "width": "186.383px"
   },
   "toc_section_display": true,
   "toc_window_display": true
  }
 },
 "nbformat": 4,
 "nbformat_minor": 2
}
